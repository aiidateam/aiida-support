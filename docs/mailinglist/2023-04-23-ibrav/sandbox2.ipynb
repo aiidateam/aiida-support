{
 "cells": [
  {
   "cell_type": "markdown",
   "id": "436cfac9",
   "metadata": {},
   "source": [
    "# Influence of setting `ibrav`"
   ]
  },
  {
   "cell_type": "code",
   "execution_count": 1,
   "id": "a92f72fa",
   "metadata": {},
   "outputs": [
    {
     "data": {
      "text/plain": [
       "Profile<uuid='8f0080521aaf4d0cbdb91e33773008fd' name='mbx'>"
      ]
     },
     "execution_count": 1,
     "metadata": {},
     "output_type": "execute_result"
    }
   ],
   "source": [
    "from aiida import orm, load_profile\n",
    "from aiida_quantumespresso.workflows.pw.base import PwBaseWorkChain\n",
    "from pathlib import Path\n",
    "from aiida.engine import run_get_node\n",
    "\n",
    "from ase import io\n",
    "\n",
    "load_profile()"
   ]
  },
  {
   "cell_type": "code",
   "execution_count": 2,
   "id": "f3011225",
   "metadata": {},
   "outputs": [],
   "source": [
    "atoms = io.read(Path('scf-ibrav2.in'))\n",
    "structure = orm.StructureData(ase=atoms)\n",
    "code = orm.load_code('qe-7.2-pw@localhost')"
   ]
  },
  {
   "cell_type": "markdown",
   "id": "1a79aff0",
   "metadata": {},
   "source": [
    "## Run without `ibrav`"
   ]
  },
  {
   "cell_type": "code",
   "execution_count": 3,
   "id": "72d04193",
   "metadata": {},
   "outputs": [
    {
     "name": "stderr",
     "output_type": "stream",
     "text": [
      "04/23/2023 02:35:49 PM <12893> aiida.orm.nodes.process.workflow.workchain.WorkChainNode: [REPORT] [782|PwBaseWorkChain|run_process]: launching PwCalculation<787> iteration #1\n",
      "04/23/2023 02:35:51 PM <12893> aiida.scheduler.direct: [WARNING] Unrecognized job_state '?' for job id 13004\n",
      "04/23/2023 02:35:51 PM <12893> aiida.scheduler.direct: [WARNING] Unrecognized job_state '?' for job id 13005\n",
      "04/23/2023 02:35:51 PM <12893> aiida.scheduler.direct: [WARNING] Unrecognized job_state '?' for job id 13006\n",
      "04/23/2023 02:36:01 PM <12893> aiida.orm.nodes.process.workflow.workchain.WorkChainNode: [REPORT] [782|PwBaseWorkChain|results]: work chain completed after 1 iterations\n",
      "04/23/2023 02:36:01 PM <12893> aiida.orm.nodes.process.workflow.workchain.WorkChainNode: [REPORT] [782|PwBaseWorkChain|on_terminated]: remote folders will not be cleaned\n"
     ]
    }
   ],
   "source": [
    "builder = PwBaseWorkChain.get_builder_from_protocol(code=code, structure=structure)\n",
    "\n",
    "results, node = run_get_node(builder)"
   ]
  },
  {
   "cell_type": "code",
   "execution_count": 4,
   "id": "603addbc",
   "metadata": {},
   "outputs": [
    {
     "data": {
      "text/plain": [
       "'     10.56s '"
      ]
     },
     "execution_count": 4,
     "metadata": {},
     "output_type": "execute_result"
    }
   ],
   "source": [
    "results['output_parameters'].get_dict()['wall_time']"
   ]
  },
  {
   "cell_type": "code",
   "execution_count": 5,
   "id": "ab19239d",
   "metadata": {},
   "outputs": [
    {
     "name": "stdout",
     "output_type": "stream",
     "text": [
      "&CONTROL\n",
      "  calculation = 'scf'\n",
      "  etot_conv_thr =   2.0000000000d-05\n",
      "  forc_conv_thr =   1.0000000000d-04\n",
      "  max_seconds =   4.1040000000d+04\n",
      "  outdir = './out/'\n",
      "  prefix = 'aiida'\n",
      "  pseudo_dir = './pseudo/'\n",
      "  tprnfor = .true.\n",
      "  tstress = .true.\n",
      "  verbosity = 'high'\n",
      "/\n",
      "&SYSTEM\n",
      "  degauss =   1.0000000000d-02\n",
      "  ecutrho =   4.0000000000d+02\n",
      "  ecutwfc =   5.0000000000d+01\n",
      "  ibrav = 0\n",
      "  nat = 2\n",
      "  nosym = .false.\n",
      "  ntyp = 2\n",
      "  occupations = 'smearing'\n",
      "  smearing = 'cold'\n",
      "/\n",
      "&ELECTRONS\n",
      "  conv_thr =   4.0000000000d-10\n",
      "  electron_maxstep = 80\n",
      "  mixing_beta =   4.0000000000d-01\n",
      "/\n",
      "ATOMIC_SPECIES\n",
      "Mg     24.305 Mg.pbesol-n-kjpaw_psl.0.3.0.UPF\n",
      "O      15.999 O.pbesol-n-kjpaw_psl.0.1.UPF\n",
      "ATOMIC_POSITIONS angstrom\n",
      "Mg           0.0000000000       0.0000000000       0.0000000000\n",
      "O            2.1266191896       2.1266191896       2.1266191896\n",
      "K_POINTS automatic\n",
      "18 18 18 0 0 0\n",
      "CELL_PARAMETERS angstrom\n",
      "     -2.1266191896       0.0000000000       2.1266191896\n",
      "      0.0000000000       2.1266191896       2.1266191896\n",
      "     -2.1266191896       2.1266191896       0.0000000000\n",
      "\n"
     ]
    }
   ],
   "source": [
    "node.called[-1].base.repository.list_object_names()\n",
    "print(node.called[-1].base.repository.get_object_content('aiida.in'))"
   ]
  },
  {
   "cell_type": "markdown",
   "id": "e2cd144a",
   "metadata": {},
   "source": [
    "## Run with `ibrav`"
   ]
  },
  {
   "cell_type": "code",
   "execution_count": 6,
   "id": "9ef192f1",
   "metadata": {},
   "outputs": [
    {
     "name": "stderr",
     "output_type": "stream",
     "text": [
      "04/23/2023 02:36:02 PM <12893> aiida.orm.nodes.process.workflow.workchain.WorkChainNode: [REPORT] [798|PwBaseWorkChain|run_process]: launching PwCalculation<803> iteration #1\n",
      "04/23/2023 02:36:14 PM <12893> aiida.orm.nodes.process.workflow.workchain.WorkChainNode: [REPORT] [798|PwBaseWorkChain|results]: work chain completed after 1 iterations\n",
      "04/23/2023 02:36:14 PM <12893> aiida.orm.nodes.process.workflow.workchain.WorkChainNode: [REPORT] [798|PwBaseWorkChain|on_terminated]: remote folders will not be cleaned\n"
     ]
    }
   ],
   "source": [
    "builder = PwBaseWorkChain.get_builder_from_protocol(code=code, structure=structure)\n",
    "\n",
    "builder.pw.parameters['SYSTEM']['ibrav'] = 2\n",
    "\n",
    "# Note that this is not possible - Also see https://github.com/aiidateam/aiida-quantumespresso/issues/922 \n",
    "# builder.pw.parameters['SYSTEM']['celldm(1)'] = 8.0374557182  \n",
    "\n",
    "results, node = run_get_node(builder)"
   ]
  },
  {
   "cell_type": "code",
   "execution_count": 7,
   "id": "8b1f7a9a",
   "metadata": {},
   "outputs": [
    {
     "data": {
      "text/plain": [
       "'     10.61s '"
      ]
     },
     "execution_count": 7,
     "metadata": {},
     "output_type": "execute_result"
    }
   ],
   "source": [
    "results['output_parameters'].get_dict()['wall_time']"
   ]
  },
  {
   "cell_type": "code",
   "execution_count": 8,
   "id": "59362ffd",
   "metadata": {},
   "outputs": [
    {
     "name": "stdout",
     "output_type": "stream",
     "text": [
      "&CONTROL\n",
      "  calculation = 'scf'\n",
      "  etot_conv_thr =   2.0000000000d-05\n",
      "  forc_conv_thr =   1.0000000000d-04\n",
      "  max_seconds =   4.1040000000d+04\n",
      "  outdir = './out/'\n",
      "  prefix = 'aiida'\n",
      "  pseudo_dir = './pseudo/'\n",
      "  tprnfor = .true.\n",
      "  tstress = .true.\n",
      "  verbosity = 'high'\n",
      "/\n",
      "&SYSTEM\n",
      "  a =   4.2532383792d+00\n",
      "  degauss =   1.0000000000d-02\n",
      "  ecutrho =   4.0000000000d+02\n",
      "  ecutwfc =   5.0000000000d+01\n",
      "  ibrav = 2\n",
      "  nat = 2\n",
      "  nosym = .false.\n",
      "  ntyp = 2\n",
      "  occupations = 'smearing'\n",
      "  smearing = 'cold'\n",
      "/\n",
      "&ELECTRONS\n",
      "  conv_thr =   4.0000000000d-10\n",
      "  electron_maxstep = 80\n",
      "  mixing_beta =   4.0000000000d-01\n",
      "/\n",
      "ATOMIC_SPECIES\n",
      "Mg     24.305 Mg.pbesol-n-kjpaw_psl.0.3.0.UPF\n",
      "O      15.999 O.pbesol-n-kjpaw_psl.0.1.UPF\n",
      "ATOMIC_POSITIONS angstrom\n",
      "Mg           0.0000000000       0.0000000000       0.0000000000\n",
      "O            2.1266191896       2.1266191896       2.1266191896\n",
      "K_POINTS automatic\n",
      "18 18 18 0 0 0\n",
      "\n"
     ]
    }
   ],
   "source": [
    "print(node.called[-1].base.repository.get_object_content('aiida.in'))"
   ]
  },
  {
   "cell_type": "markdown",
   "id": "b51dc0d3",
   "metadata": {},
   "source": [
    "## `parent_folder` creator"
   ]
  },
  {
   "cell_type": "code",
   "execution_count": 9,
   "id": "9ab70f74",
   "metadata": {},
   "outputs": [
    {
     "name": "stderr",
     "output_type": "stream",
     "text": [
      "04/23/2023 02:36:15 PM <12893> aiida.orm.nodes.process.workflow.workchain.WorkChainNode: [REPORT] [814|PwBaseWorkChain|run_process]: launching PwCalculation<819> iteration #1\n",
      "04/23/2023 02:36:26 PM <12893> aiida.scheduler.direct: [WARNING] Unrecognized job_state '?' for job id 13758\n",
      "04/23/2023 02:36:27 PM <12893> aiida.orm.nodes.process.workflow.workchain.WorkChainNode: [REPORT] [814|PwBaseWorkChain|results]: work chain completed after 1 iterations\n",
      "04/23/2023 02:36:27 PM <12893> aiida.orm.nodes.process.workflow.workchain.WorkChainNode: [REPORT] [814|PwBaseWorkChain|on_terminated]: remote folders will not be cleaned\n",
      "04/23/2023 02:36:28 PM <12893> aiida.orm.nodes.process.workflow.workchain.WorkChainNode: [REPORT] [830|PwBaseWorkChain|run_process]: launching PwCalculation<835> iteration #1\n",
      "04/23/2023 02:36:37 PM <12893> aiida.orm.nodes.process.workflow.workchain.WorkChainNode: [REPORT] [830|PwBaseWorkChain|results]: work chain completed after 1 iterations\n",
      "04/23/2023 02:36:37 PM <12893> aiida.orm.nodes.process.workflow.workchain.WorkChainNode: [REPORT] [830|PwBaseWorkChain|on_terminated]: remote folders will not be cleaned\n"
     ]
    },
    {
     "data": {
      "text/plain": [
       "<CalcJobNode: uuid: ed2e8455-500e-42a5-a4e3-7761f255a25d (pk: 819) (aiida.calculations:quantumespresso.pw)>"
      ]
     },
     "execution_count": 9,
     "metadata": {},
     "output_type": "execute_result"
    }
   ],
   "source": [
    "# First run\n",
    "builder = PwBaseWorkChain.get_builder_from_protocol(code=code, structure=structure)\n",
    "\n",
    "results, node = run_get_node(builder)\n",
    "\n",
    "# Restart\n",
    "restart_builder = PwBaseWorkChain.get_builder_from_protocol(code=code, structure=structure)\n",
    "\n",
    "parameters = restart_builder.pw.parameters.get_dict()\n",
    "parameters['ELECTRONS']['startingpot'] = 'file'\n",
    "restart_builder.pw.parameters = orm.Dict(parameters)\n",
    "restart_builder.pw.parent_folder = node.outputs.remote_folder\n",
    "\n",
    "restart_results, restart_node = run_get_node(restart_builder)\n",
    "\n",
    "restart_node.inputs.pw.parent_folder.creator"
   ]
  },
  {
   "cell_type": "markdown",
   "id": "94642774",
   "metadata": {},
   "source": [
    "You can also do the following, but only because the `Dict` node is not stored!"
   ]
  },
  {
   "cell_type": "code",
   "execution_count": 10,
   "id": "196a0286",
   "metadata": {},
   "outputs": [
    {
     "name": "stderr",
     "output_type": "stream",
     "text": [
      "04/23/2023 02:36:38 PM <12893> aiida.orm.nodes.process.workflow.workchain.WorkChainNode: [REPORT] [846|PwBaseWorkChain|run_process]: launching PwCalculation<851> iteration #1\n",
      "04/23/2023 02:36:48 PM <12893> aiida.orm.nodes.process.workflow.workchain.WorkChainNode: [REPORT] [846|PwBaseWorkChain|results]: work chain completed after 1 iterations\n",
      "04/23/2023 02:36:48 PM <12893> aiida.orm.nodes.process.workflow.workchain.WorkChainNode: [REPORT] [846|PwBaseWorkChain|on_terminated]: remote folders will not be cleaned\n"
     ]
    }
   ],
   "source": [
    "parent_folder = node.outputs.remote_folder\n",
    "\n",
    "restart_builder = PwBaseWorkChain.get_builder_from_protocol(code=code, structure=structure)\n",
    "\n",
    "restart_builder.pw.parameters['ELECTRONS']['startingpot'] = 'file'\n",
    "restart_builder.pw.parent_folder = parent_folder\n",
    "\n",
    "test_restults, test_node = run_get_node(restart_builder)"
   ]
  }
 ],
 "metadata": {
  "kernelspec": {
   "display_name": "Python 3 (ipykernel)",
   "language": "python",
   "name": "python3"
  },
  "language_info": {
   "codemirror_mode": {
    "name": "ipython",
    "version": 3
   },
   "file_extension": ".py",
   "mimetype": "text/x-python",
   "name": "python",
   "nbconvert_exporter": "python",
   "pygments_lexer": "ipython3",
   "version": "3.9.16"
  }
 },
 "nbformat": 4,
 "nbformat_minor": 5
}
